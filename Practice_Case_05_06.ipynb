{
 "cells": [
  {
   "cell_type": "markdown",
   "metadata": {},
   "source": [
    "<p><font size=\"6\"><b>Practice Case 05 & 06</b></font></p>\n",
    "\n",
    "\n",
    "> *Supervised and Unsupervised Learning*  \n",
    "\n",
    "> *Author: Herdis Haerusalam*<br>\n",
    "> *Date : 11 November 2019*\n",
    "\n",
    "\n",
    "---"
   ]
  },
  {
   "cell_type": "code",
   "execution_count": 215,
   "metadata": {
    "ExecuteTime": {
     "end_time": "2019-11-11T07:58:12.414000Z",
     "start_time": "2019-11-11T07:58:11.814000Z"
    }
   },
   "outputs": [],
   "source": [
    "import pandas as pd\n",
    "import numpy as np\n",
    "from sklearn.model_selection import train_test_split\n",
    "from sklearn.metrics import confusion_matrix, roc_curve, auc, roc_auc_score\n",
    "from sklearn.linear_model import LinearRegression, LogisticRegression\n",
    "from sklearn.neighbors import KNeighborsClassifier\n",
    "from sklearn.tree import DecisionTreeClassifier\n",
    "from sklearn.metrics import classification_report\n",
    "from sklearn.cluster import KMeans, AgglomerativeClustering, DBSCAN\n",
    "from math import sqrt\n",
    "import seaborn as sns\n",
    "\n",
    "import matplotlib.pyplot as plt\n",
    "\n",
    "import os\n",
    "%matplotlib inline"
   ]
  },
  {
   "cell_type": "code",
   "execution_count": 50,
   "metadata": {
    "ExecuteTime": {
     "end_time": "2019-11-11T06:07:21.352000Z",
     "start_time": "2019-11-11T06:07:21.341000Z"
    }
   },
   "outputs": [],
   "source": [
    "from sklearn.utils.multiclass import unique_labels\n",
    "\n",
    "def plot_confusion_matrix(y_true, y_pred, classes,\n",
    "                          normalize=False,\n",
    "                          title=None,\n",
    "                          cmap=plt.cm.Blues):\n",
    "    \"\"\"\n",
    "    This function prints and plots the confusion matrix.\n",
    "    Normalization can be applied by setting `normalize=True`.\n",
    "    \"\"\"\n",
    "#     if not title:\n",
    "#         if normalize:\n",
    "#             title = 'Normalized confusion matrix'\n",
    "#         else:\n",
    "#             title = 'Confusion matrix, without normalization'\n",
    "\n",
    "    # Compute confusion matrix\n",
    "    cm = confusion_matrix(y_true, y_pred)\n",
    "    # Only use the labels that appear in the data\n",
    "    classes = classes[unique_labels(y_true, y_pred)]\n",
    "    if normalize:\n",
    "        cm = cm.astype('float') / cm.sum(axis=1)[:, np.newaxis]\n",
    "        print(\"Confusion matrix\")\n",
    "    else:\n",
    "        print('Confusion matrix')\n",
    "\n",
    "    print(cm)\n",
    "\n",
    "    fig, ax = plt.subplots()\n",
    "    im = ax.imshow(cm, interpolation='nearest', cmap=cmap)\n",
    "    ax.figure.colorbar(im, ax=ax)\n",
    "    # We want to show all ticks...\n",
    "    ax.set(xticks=np.arange(cm.shape[1]),\n",
    "           yticks=np.arange(cm.shape[0]),\n",
    "           # ... and label them with the respective list entries\n",
    "           xticklabels=classes, yticklabels=classes,\n",
    "           title=title,\n",
    "           ylabel='True label',\n",
    "           xlabel='Predicted label')\n",
    "\n",
    "    # Rotate the tick labels and set their alignment.\n",
    "    plt.setp(ax.get_xticklabels(), rotation=45, ha=\"right\",\n",
    "             rotation_mode=\"anchor\")\n",
    "\n",
    "    # Loop over data dimensions and create text annotations.\n",
    "    fmt = '.2f' if normalize else 'd'\n",
    "    thresh = cm.max() / 2.\n",
    "    for i in range(cm.shape[0]):\n",
    "        for j in range(cm.shape[1]):\n",
    "            ax.text(j, i, format(cm[i, j], fmt),\n",
    "                    ha=\"center\", va=\"center\",\n",
    "                    color=\"white\" if cm[i, j] > thresh else \"black\")\n",
    "    fig.tight_layout()\n",
    "    return ax\n"
   ]
  },
  {
   "cell_type": "markdown",
   "metadata": {},
   "source": [
    "# Read dataset and Preprocessing"
   ]
  },
  {
   "cell_type": "code",
   "execution_count": 51,
   "metadata": {
    "ExecuteTime": {
     "end_time": "2019-11-11T06:07:21.687000Z",
     "start_time": "2019-11-11T06:07:21.683000Z"
    }
   },
   "outputs": [
    {
     "name": "stdout",
     "output_type": "stream",
     "text": [
      "C:\\Users\\herdis.haerusalam\\Documents\\DSA\\iykra\\DAY_15\n",
      "['.ipynb_checkpoints', 'dataset', 'Practice_Case_05_06.ipynb']\n",
      "('dataset', [], ['sample_prediction.csv', 'test.csv', 'train.csv'])\n"
     ]
    }
   ],
   "source": [
    "print(os.getcwd())\n",
    "print(os.listdir(os.getcwd()))\n",
    "print(next(os.walk('dataset')))"
   ]
  },
  {
   "cell_type": "code",
   "execution_count": 199,
   "metadata": {
    "ExecuteTime": {
     "end_time": "2019-11-11T07:46:32.812000Z",
     "start_time": "2019-11-11T07:46:32.764000Z"
    }
   },
   "outputs": [],
   "source": [
    "data_sample = pd.read_csv('dataset/sample_prediction.csv')\n",
    "data_train = pd.read_csv('dataset/train.csv') #train data\n",
    "data_test = pd.read_csv('dataset/test.csv') #testing data"
   ]
  },
  {
   "cell_type": "code",
   "execution_count": 53,
   "metadata": {
    "ExecuteTime": {
     "end_time": "2019-11-11T06:07:22.048000Z",
     "start_time": "2019-11-11T06:07:22.030000Z"
    }
   },
   "outputs": [
    {
     "data": {
      "text/html": [
       "<div>\n",
       "<style scoped>\n",
       "    .dataframe tbody tr th:only-of-type {\n",
       "        vertical-align: middle;\n",
       "    }\n",
       "\n",
       "    .dataframe tbody tr th {\n",
       "        vertical-align: top;\n",
       "    }\n",
       "\n",
       "    .dataframe thead th {\n",
       "        text-align: right;\n",
       "    }\n",
       "</style>\n",
       "<table border=\"1\" class=\"dataframe\">\n",
       "  <thead>\n",
       "    <tr style=\"text-align: right;\">\n",
       "      <th></th>\n",
       "      <th>att1</th>\n",
       "      <th>att2</th>\n",
       "      <th>att3</th>\n",
       "      <th>att4</th>\n",
       "      <th>att5</th>\n",
       "      <th>att6</th>\n",
       "      <th>att7</th>\n",
       "      <th>att8a</th>\n",
       "      <th>att8b</th>\n",
       "      <th>att8c</th>\n",
       "      <th>...</th>\n",
       "      <th>att8e</th>\n",
       "      <th>att8f</th>\n",
       "      <th>att8g</th>\n",
       "      <th>att8h</th>\n",
       "      <th>att8i</th>\n",
       "      <th>att8j</th>\n",
       "      <th>att9a</th>\n",
       "      <th>att9b</th>\n",
       "      <th>att9c</th>\n",
       "      <th>att10</th>\n",
       "    </tr>\n",
       "  </thead>\n",
       "  <tbody>\n",
       "    <tr>\n",
       "      <td>0</td>\n",
       "      <td>0.16</td>\n",
       "      <td>0.82</td>\n",
       "      <td>6</td>\n",
       "      <td>202</td>\n",
       "      <td>4</td>\n",
       "      <td>1</td>\n",
       "      <td>1</td>\n",
       "      <td>0</td>\n",
       "      <td>0</td>\n",
       "      <td>0</td>\n",
       "      <td>...</td>\n",
       "      <td>0</td>\n",
       "      <td>0</td>\n",
       "      <td>0</td>\n",
       "      <td>1</td>\n",
       "      <td>0</td>\n",
       "      <td>0</td>\n",
       "      <td>0</td>\n",
       "      <td>0</td>\n",
       "      <td>1</td>\n",
       "      <td>0</td>\n",
       "    </tr>\n",
       "    <tr>\n",
       "      <td>1</td>\n",
       "      <td>0.43</td>\n",
       "      <td>0.48</td>\n",
       "      <td>2</td>\n",
       "      <td>153</td>\n",
       "      <td>3</td>\n",
       "      <td>0</td>\n",
       "      <td>0</td>\n",
       "      <td>0</td>\n",
       "      <td>0</td>\n",
       "      <td>1</td>\n",
       "      <td>...</td>\n",
       "      <td>0</td>\n",
       "      <td>0</td>\n",
       "      <td>0</td>\n",
       "      <td>0</td>\n",
       "      <td>0</td>\n",
       "      <td>0</td>\n",
       "      <td>0</td>\n",
       "      <td>1</td>\n",
       "      <td>0</td>\n",
       "      <td>1</td>\n",
       "    </tr>\n",
       "    <tr>\n",
       "      <td>2</td>\n",
       "      <td>0.39</td>\n",
       "      <td>0.54</td>\n",
       "      <td>2</td>\n",
       "      <td>127</td>\n",
       "      <td>3</td>\n",
       "      <td>0</td>\n",
       "      <td>0</td>\n",
       "      <td>0</td>\n",
       "      <td>0</td>\n",
       "      <td>0</td>\n",
       "      <td>...</td>\n",
       "      <td>0</td>\n",
       "      <td>0</td>\n",
       "      <td>0</td>\n",
       "      <td>1</td>\n",
       "      <td>0</td>\n",
       "      <td>0</td>\n",
       "      <td>0</td>\n",
       "      <td>1</td>\n",
       "      <td>0</td>\n",
       "      <td>1</td>\n",
       "    </tr>\n",
       "    <tr>\n",
       "      <td>3</td>\n",
       "      <td>0.73</td>\n",
       "      <td>1.00</td>\n",
       "      <td>5</td>\n",
       "      <td>253</td>\n",
       "      <td>6</td>\n",
       "      <td>0</td>\n",
       "      <td>0</td>\n",
       "      <td>0</td>\n",
       "      <td>0</td>\n",
       "      <td>0</td>\n",
       "      <td>...</td>\n",
       "      <td>0</td>\n",
       "      <td>0</td>\n",
       "      <td>0</td>\n",
       "      <td>0</td>\n",
       "      <td>1</td>\n",
       "      <td>0</td>\n",
       "      <td>0</td>\n",
       "      <td>1</td>\n",
       "      <td>0</td>\n",
       "      <td>1</td>\n",
       "    </tr>\n",
       "    <tr>\n",
       "      <td>4</td>\n",
       "      <td>0.44</td>\n",
       "      <td>0.46</td>\n",
       "      <td>2</td>\n",
       "      <td>149</td>\n",
       "      <td>3</td>\n",
       "      <td>0</td>\n",
       "      <td>0</td>\n",
       "      <td>0</td>\n",
       "      <td>0</td>\n",
       "      <td>0</td>\n",
       "      <td>...</td>\n",
       "      <td>0</td>\n",
       "      <td>0</td>\n",
       "      <td>0</td>\n",
       "      <td>0</td>\n",
       "      <td>0</td>\n",
       "      <td>1</td>\n",
       "      <td>0</td>\n",
       "      <td>1</td>\n",
       "      <td>0</td>\n",
       "      <td>1</td>\n",
       "    </tr>\n",
       "  </tbody>\n",
       "</table>\n",
       "<p>5 rows × 21 columns</p>\n",
       "</div>"
      ],
      "text/plain": [
       "   att1  att2  att3  att4  att5  att6  att7  att8a  att8b  att8c  ...  att8e  \\\n",
       "0  0.16  0.82     6   202     4     1     1      0      0      0  ...      0   \n",
       "1  0.43  0.48     2   153     3     0     0      0      0      1  ...      0   \n",
       "2  0.39  0.54     2   127     3     0     0      0      0      0  ...      0   \n",
       "3  0.73  1.00     5   253     6     0     0      0      0      0  ...      0   \n",
       "4  0.44  0.46     2   149     3     0     0      0      0      0  ...      0   \n",
       "\n",
       "   att8f  att8g  att8h  att8i  att8j  att9a  att9b  att9c  att10  \n",
       "0      0      0      1      0      0      0      0      1      0  \n",
       "1      0      0      0      0      0      0      1      0      1  \n",
       "2      0      0      1      0      0      0      1      0      1  \n",
       "3      0      0      0      1      0      0      1      0      1  \n",
       "4      0      0      0      0      1      0      1      0      1  \n",
       "\n",
       "[5 rows x 21 columns]"
      ]
     },
     "execution_count": 53,
     "metadata": {},
     "output_type": "execute_result"
    }
   ],
   "source": [
    "data_train.head()"
   ]
  },
  {
   "cell_type": "code",
   "execution_count": 54,
   "metadata": {
    "ExecuteTime": {
     "end_time": "2019-11-11T06:07:22.196000Z",
     "start_time": "2019-11-11T06:07:22.182000Z"
    }
   },
   "outputs": [
    {
     "data": {
      "text/html": [
       "<div>\n",
       "<style scoped>\n",
       "    .dataframe tbody tr th:only-of-type {\n",
       "        vertical-align: middle;\n",
       "    }\n",
       "\n",
       "    .dataframe tbody tr th {\n",
       "        vertical-align: top;\n",
       "    }\n",
       "\n",
       "    .dataframe thead th {\n",
       "        text-align: right;\n",
       "    }\n",
       "</style>\n",
       "<table border=\"1\" class=\"dataframe\">\n",
       "  <thead>\n",
       "    <tr style=\"text-align: right;\">\n",
       "      <th></th>\n",
       "      <th>att1</th>\n",
       "      <th>att2</th>\n",
       "      <th>att3</th>\n",
       "      <th>att4</th>\n",
       "      <th>att5</th>\n",
       "      <th>att6</th>\n",
       "      <th>att7</th>\n",
       "      <th>att8a</th>\n",
       "      <th>att8b</th>\n",
       "      <th>att8c</th>\n",
       "      <th>att8d</th>\n",
       "      <th>att8e</th>\n",
       "      <th>att8f</th>\n",
       "      <th>att8g</th>\n",
       "      <th>att8h</th>\n",
       "      <th>att8i</th>\n",
       "      <th>att8j</th>\n",
       "      <th>att9a</th>\n",
       "      <th>att9b</th>\n",
       "      <th>att9c</th>\n",
       "    </tr>\n",
       "  </thead>\n",
       "  <tbody>\n",
       "    <tr>\n",
       "      <td>0</td>\n",
       "      <td>0.66</td>\n",
       "      <td>0.62</td>\n",
       "      <td>4</td>\n",
       "      <td>250</td>\n",
       "      <td>2</td>\n",
       "      <td>0</td>\n",
       "      <td>0</td>\n",
       "      <td>0</td>\n",
       "      <td>1</td>\n",
       "      <td>0</td>\n",
       "      <td>0</td>\n",
       "      <td>0</td>\n",
       "      <td>0</td>\n",
       "      <td>0</td>\n",
       "      <td>0</td>\n",
       "      <td>0</td>\n",
       "      <td>0</td>\n",
       "      <td>0</td>\n",
       "      <td>0</td>\n",
       "      <td>1</td>\n",
       "    </tr>\n",
       "    <tr>\n",
       "      <td>1</td>\n",
       "      <td>0.66</td>\n",
       "      <td>0.50</td>\n",
       "      <td>4</td>\n",
       "      <td>263</td>\n",
       "      <td>3</td>\n",
       "      <td>0</td>\n",
       "      <td>0</td>\n",
       "      <td>0</td>\n",
       "      <td>0</td>\n",
       "      <td>0</td>\n",
       "      <td>0</td>\n",
       "      <td>0</td>\n",
       "      <td>0</td>\n",
       "      <td>0</td>\n",
       "      <td>1</td>\n",
       "      <td>0</td>\n",
       "      <td>0</td>\n",
       "      <td>1</td>\n",
       "      <td>0</td>\n",
       "      <td>0</td>\n",
       "    </tr>\n",
       "    <tr>\n",
       "      <td>2</td>\n",
       "      <td>0.32</td>\n",
       "      <td>0.74</td>\n",
       "      <td>3</td>\n",
       "      <td>211</td>\n",
       "      <td>3</td>\n",
       "      <td>0</td>\n",
       "      <td>0</td>\n",
       "      <td>0</td>\n",
       "      <td>0</td>\n",
       "      <td>0</td>\n",
       "      <td>0</td>\n",
       "      <td>0</td>\n",
       "      <td>0</td>\n",
       "      <td>0</td>\n",
       "      <td>0</td>\n",
       "      <td>0</td>\n",
       "      <td>1</td>\n",
       "      <td>0</td>\n",
       "      <td>1</td>\n",
       "      <td>0</td>\n",
       "    </tr>\n",
       "    <tr>\n",
       "      <td>3</td>\n",
       "      <td>0.37</td>\n",
       "      <td>0.57</td>\n",
       "      <td>2</td>\n",
       "      <td>155</td>\n",
       "      <td>3</td>\n",
       "      <td>0</td>\n",
       "      <td>0</td>\n",
       "      <td>0</td>\n",
       "      <td>0</td>\n",
       "      <td>0</td>\n",
       "      <td>0</td>\n",
       "      <td>0</td>\n",
       "      <td>0</td>\n",
       "      <td>0</td>\n",
       "      <td>0</td>\n",
       "      <td>1</td>\n",
       "      <td>0</td>\n",
       "      <td>0</td>\n",
       "      <td>1</td>\n",
       "      <td>0</td>\n",
       "    </tr>\n",
       "    <tr>\n",
       "      <td>4</td>\n",
       "      <td>0.41</td>\n",
       "      <td>0.49</td>\n",
       "      <td>2</td>\n",
       "      <td>130</td>\n",
       "      <td>3</td>\n",
       "      <td>0</td>\n",
       "      <td>0</td>\n",
       "      <td>0</td>\n",
       "      <td>0</td>\n",
       "      <td>0</td>\n",
       "      <td>0</td>\n",
       "      <td>0</td>\n",
       "      <td>1</td>\n",
       "      <td>0</td>\n",
       "      <td>0</td>\n",
       "      <td>0</td>\n",
       "      <td>0</td>\n",
       "      <td>0</td>\n",
       "      <td>1</td>\n",
       "      <td>0</td>\n",
       "    </tr>\n",
       "  </tbody>\n",
       "</table>\n",
       "</div>"
      ],
      "text/plain": [
       "   att1  att2  att3  att4  att5  att6  att7  att8a  att8b  att8c  att8d  \\\n",
       "0  0.66  0.62     4   250     2     0     0      0      1      0      0   \n",
       "1  0.66  0.50     4   263     3     0     0      0      0      0      0   \n",
       "2  0.32  0.74     3   211     3     0     0      0      0      0      0   \n",
       "3  0.37  0.57     2   155     3     0     0      0      0      0      0   \n",
       "4  0.41  0.49     2   130     3     0     0      0      0      0      0   \n",
       "\n",
       "   att8e  att8f  att8g  att8h  att8i  att8j  att9a  att9b  att9c  \n",
       "0      0      0      0      0      0      0      0      0      1  \n",
       "1      0      0      0      1      0      0      1      0      0  \n",
       "2      0      0      0      0      0      1      0      1      0  \n",
       "3      0      0      0      0      1      0      0      1      0  \n",
       "4      0      1      0      0      0      0      0      1      0  "
      ]
     },
     "execution_count": 54,
     "metadata": {},
     "output_type": "execute_result"
    }
   ],
   "source": [
    "data_test.head()"
   ]
  },
  {
   "cell_type": "code",
   "execution_count": 55,
   "metadata": {
    "ExecuteTime": {
     "end_time": "2019-11-11T06:07:22.400000Z",
     "start_time": "2019-11-11T06:07:22.385000Z"
    }
   },
   "outputs": [
    {
     "name": "stdout",
     "output_type": "stream",
     "text": [
      "<class 'pandas.core.frame.DataFrame'>\n",
      "RangeIndex: 8000 entries, 0 to 7999\n",
      "Data columns (total 21 columns):\n",
      "att1     8000 non-null float64\n",
      "att2     8000 non-null float64\n",
      "att3     8000 non-null int64\n",
      "att4     8000 non-null int64\n",
      "att5     8000 non-null int64\n",
      "att6     8000 non-null int64\n",
      "att7     8000 non-null int64\n",
      "att8a    8000 non-null int64\n",
      "att8b    8000 non-null int64\n",
      "att8c    8000 non-null int64\n",
      "att8d    8000 non-null int64\n",
      "att8e    8000 non-null int64\n",
      "att8f    8000 non-null int64\n",
      "att8g    8000 non-null int64\n",
      "att8h    8000 non-null int64\n",
      "att8i    8000 non-null int64\n",
      "att8j    8000 non-null int64\n",
      "att9a    8000 non-null int64\n",
      "att9b    8000 non-null int64\n",
      "att9c    8000 non-null int64\n",
      "att10    8000 non-null int64\n",
      "dtypes: float64(2), int64(19)\n",
      "memory usage: 1.3 MB\n"
     ]
    }
   ],
   "source": [
    "data_train.info()"
   ]
  },
  {
   "cell_type": "code",
   "execution_count": 56,
   "metadata": {
    "ExecuteTime": {
     "end_time": "2019-11-11T06:07:22.728000Z",
     "start_time": "2019-11-11T06:07:22.563000Z"
    }
   },
   "outputs": [
    {
     "data": {
      "text/html": [
       "<div>\n",
       "<style scoped>\n",
       "    .dataframe tbody tr th:only-of-type {\n",
       "        vertical-align: middle;\n",
       "    }\n",
       "\n",
       "    .dataframe tbody tr th {\n",
       "        vertical-align: top;\n",
       "    }\n",
       "\n",
       "    .dataframe thead th {\n",
       "        text-align: right;\n",
       "    }\n",
       "</style>\n",
       "<table border=\"1\" class=\"dataframe\">\n",
       "  <thead>\n",
       "    <tr style=\"text-align: right;\">\n",
       "      <th></th>\n",
       "      <th>count</th>\n",
       "      <th>mean</th>\n",
       "      <th>std</th>\n",
       "      <th>min</th>\n",
       "      <th>25%</th>\n",
       "      <th>50%</th>\n",
       "      <th>75%</th>\n",
       "      <th>max</th>\n",
       "    </tr>\n",
       "  </thead>\n",
       "  <tbody>\n",
       "    <tr>\n",
       "      <td>att1</td>\n",
       "      <td>8000.0</td>\n",
       "      <td>0.612260</td>\n",
       "      <td>0.248338</td>\n",
       "      <td>0.09</td>\n",
       "      <td>0.44</td>\n",
       "      <td>0.64</td>\n",
       "      <td>0.82</td>\n",
       "      <td>1.0</td>\n",
       "    </tr>\n",
       "    <tr>\n",
       "      <td>att2</td>\n",
       "      <td>8000.0</td>\n",
       "      <td>0.717594</td>\n",
       "      <td>0.170957</td>\n",
       "      <td>0.36</td>\n",
       "      <td>0.56</td>\n",
       "      <td>0.72</td>\n",
       "      <td>0.87</td>\n",
       "      <td>1.0</td>\n",
       "    </tr>\n",
       "    <tr>\n",
       "      <td>att3</td>\n",
       "      <td>8000.0</td>\n",
       "      <td>3.791375</td>\n",
       "      <td>1.230463</td>\n",
       "      <td>2.00</td>\n",
       "      <td>3.00</td>\n",
       "      <td>4.00</td>\n",
       "      <td>5.00</td>\n",
       "      <td>7.0</td>\n",
       "    </tr>\n",
       "    <tr>\n",
       "      <td>att4</td>\n",
       "      <td>8000.0</td>\n",
       "      <td>201.245000</td>\n",
       "      <td>49.837947</td>\n",
       "      <td>96.00</td>\n",
       "      <td>156.00</td>\n",
       "      <td>201.00</td>\n",
       "      <td>245.00</td>\n",
       "      <td>310.0</td>\n",
       "    </tr>\n",
       "    <tr>\n",
       "      <td>att5</td>\n",
       "      <td>8000.0</td>\n",
       "      <td>3.486375</td>\n",
       "      <td>1.446055</td>\n",
       "      <td>2.00</td>\n",
       "      <td>3.00</td>\n",
       "      <td>3.00</td>\n",
       "      <td>4.00</td>\n",
       "      <td>10.0</td>\n",
       "    </tr>\n",
       "    <tr>\n",
       "      <td>att6</td>\n",
       "      <td>8000.0</td>\n",
       "      <td>0.145375</td>\n",
       "      <td>0.352501</td>\n",
       "      <td>0.00</td>\n",
       "      <td>0.00</td>\n",
       "      <td>0.00</td>\n",
       "      <td>0.00</td>\n",
       "      <td>1.0</td>\n",
       "    </tr>\n",
       "    <tr>\n",
       "      <td>att7</td>\n",
       "      <td>8000.0</td>\n",
       "      <td>0.020625</td>\n",
       "      <td>0.142134</td>\n",
       "      <td>0.00</td>\n",
       "      <td>0.00</td>\n",
       "      <td>0.00</td>\n",
       "      <td>0.00</td>\n",
       "      <td>1.0</td>\n",
       "    </tr>\n",
       "    <tr>\n",
       "      <td>att8a</td>\n",
       "      <td>8000.0</td>\n",
       "      <td>0.080125</td>\n",
       "      <td>0.271504</td>\n",
       "      <td>0.00</td>\n",
       "      <td>0.00</td>\n",
       "      <td>0.00</td>\n",
       "      <td>0.00</td>\n",
       "      <td>1.0</td>\n",
       "    </tr>\n",
       "    <tr>\n",
       "      <td>att8b</td>\n",
       "      <td>8000.0</td>\n",
       "      <td>0.053875</td>\n",
       "      <td>0.225785</td>\n",
       "      <td>0.00</td>\n",
       "      <td>0.00</td>\n",
       "      <td>0.00</td>\n",
       "      <td>0.00</td>\n",
       "      <td>1.0</td>\n",
       "    </tr>\n",
       "    <tr>\n",
       "      <td>att8c</td>\n",
       "      <td>8000.0</td>\n",
       "      <td>0.050750</td>\n",
       "      <td>0.219500</td>\n",
       "      <td>0.00</td>\n",
       "      <td>0.00</td>\n",
       "      <td>0.00</td>\n",
       "      <td>0.00</td>\n",
       "      <td>1.0</td>\n",
       "    </tr>\n",
       "    <tr>\n",
       "      <td>att8d</td>\n",
       "      <td>8000.0</td>\n",
       "      <td>0.048875</td>\n",
       "      <td>0.215620</td>\n",
       "      <td>0.00</td>\n",
       "      <td>0.00</td>\n",
       "      <td>0.00</td>\n",
       "      <td>0.00</td>\n",
       "      <td>1.0</td>\n",
       "    </tr>\n",
       "    <tr>\n",
       "      <td>att8e</td>\n",
       "      <td>8000.0</td>\n",
       "      <td>0.040625</td>\n",
       "      <td>0.197432</td>\n",
       "      <td>0.00</td>\n",
       "      <td>0.00</td>\n",
       "      <td>0.00</td>\n",
       "      <td>0.00</td>\n",
       "      <td>1.0</td>\n",
       "    </tr>\n",
       "    <tr>\n",
       "      <td>att8f</td>\n",
       "      <td>8000.0</td>\n",
       "      <td>0.055375</td>\n",
       "      <td>0.228725</td>\n",
       "      <td>0.00</td>\n",
       "      <td>0.00</td>\n",
       "      <td>0.00</td>\n",
       "      <td>0.00</td>\n",
       "      <td>1.0</td>\n",
       "    </tr>\n",
       "    <tr>\n",
       "      <td>att8g</td>\n",
       "      <td>8000.0</td>\n",
       "      <td>0.060000</td>\n",
       "      <td>0.237502</td>\n",
       "      <td>0.00</td>\n",
       "      <td>0.00</td>\n",
       "      <td>0.00</td>\n",
       "      <td>0.00</td>\n",
       "      <td>1.0</td>\n",
       "    </tr>\n",
       "    <tr>\n",
       "      <td>att8h</td>\n",
       "      <td>8000.0</td>\n",
       "      <td>0.274750</td>\n",
       "      <td>0.446416</td>\n",
       "      <td>0.00</td>\n",
       "      <td>0.00</td>\n",
       "      <td>0.00</td>\n",
       "      <td>1.00</td>\n",
       "      <td>1.0</td>\n",
       "    </tr>\n",
       "    <tr>\n",
       "      <td>att8i</td>\n",
       "      <td>8000.0</td>\n",
       "      <td>0.151250</td>\n",
       "      <td>0.358315</td>\n",
       "      <td>0.00</td>\n",
       "      <td>0.00</td>\n",
       "      <td>0.00</td>\n",
       "      <td>0.00</td>\n",
       "      <td>1.0</td>\n",
       "    </tr>\n",
       "    <tr>\n",
       "      <td>att8j</td>\n",
       "      <td>8000.0</td>\n",
       "      <td>0.184375</td>\n",
       "      <td>0.387814</td>\n",
       "      <td>0.00</td>\n",
       "      <td>0.00</td>\n",
       "      <td>0.00</td>\n",
       "      <td>0.00</td>\n",
       "      <td>1.0</td>\n",
       "    </tr>\n",
       "    <tr>\n",
       "      <td>att9a</td>\n",
       "      <td>8000.0</td>\n",
       "      <td>0.080875</td>\n",
       "      <td>0.272660</td>\n",
       "      <td>0.00</td>\n",
       "      <td>0.00</td>\n",
       "      <td>0.00</td>\n",
       "      <td>0.00</td>\n",
       "      <td>1.0</td>\n",
       "    </tr>\n",
       "    <tr>\n",
       "      <td>att9b</td>\n",
       "      <td>8000.0</td>\n",
       "      <td>0.484375</td>\n",
       "      <td>0.499787</td>\n",
       "      <td>0.00</td>\n",
       "      <td>0.00</td>\n",
       "      <td>0.00</td>\n",
       "      <td>1.00</td>\n",
       "      <td>1.0</td>\n",
       "    </tr>\n",
       "    <tr>\n",
       "      <td>att9c</td>\n",
       "      <td>8000.0</td>\n",
       "      <td>0.434750</td>\n",
       "      <td>0.495755</td>\n",
       "      <td>0.00</td>\n",
       "      <td>0.00</td>\n",
       "      <td>0.00</td>\n",
       "      <td>1.00</td>\n",
       "      <td>1.0</td>\n",
       "    </tr>\n",
       "    <tr>\n",
       "      <td>att10</td>\n",
       "      <td>8000.0</td>\n",
       "      <td>0.239875</td>\n",
       "      <td>0.427034</td>\n",
       "      <td>0.00</td>\n",
       "      <td>0.00</td>\n",
       "      <td>0.00</td>\n",
       "      <td>0.00</td>\n",
       "      <td>1.0</td>\n",
       "    </tr>\n",
       "  </tbody>\n",
       "</table>\n",
       "</div>"
      ],
      "text/plain": [
       "        count        mean        std    min     25%     50%     75%    max\n",
       "att1   8000.0    0.612260   0.248338   0.09    0.44    0.64    0.82    1.0\n",
       "att2   8000.0    0.717594   0.170957   0.36    0.56    0.72    0.87    1.0\n",
       "att3   8000.0    3.791375   1.230463   2.00    3.00    4.00    5.00    7.0\n",
       "att4   8000.0  201.245000  49.837947  96.00  156.00  201.00  245.00  310.0\n",
       "att5   8000.0    3.486375   1.446055   2.00    3.00    3.00    4.00   10.0\n",
       "att6   8000.0    0.145375   0.352501   0.00    0.00    0.00    0.00    1.0\n",
       "att7   8000.0    0.020625   0.142134   0.00    0.00    0.00    0.00    1.0\n",
       "att8a  8000.0    0.080125   0.271504   0.00    0.00    0.00    0.00    1.0\n",
       "att8b  8000.0    0.053875   0.225785   0.00    0.00    0.00    0.00    1.0\n",
       "att8c  8000.0    0.050750   0.219500   0.00    0.00    0.00    0.00    1.0\n",
       "att8d  8000.0    0.048875   0.215620   0.00    0.00    0.00    0.00    1.0\n",
       "att8e  8000.0    0.040625   0.197432   0.00    0.00    0.00    0.00    1.0\n",
       "att8f  8000.0    0.055375   0.228725   0.00    0.00    0.00    0.00    1.0\n",
       "att8g  8000.0    0.060000   0.237502   0.00    0.00    0.00    0.00    1.0\n",
       "att8h  8000.0    0.274750   0.446416   0.00    0.00    0.00    1.00    1.0\n",
       "att8i  8000.0    0.151250   0.358315   0.00    0.00    0.00    0.00    1.0\n",
       "att8j  8000.0    0.184375   0.387814   0.00    0.00    0.00    0.00    1.0\n",
       "att9a  8000.0    0.080875   0.272660   0.00    0.00    0.00    0.00    1.0\n",
       "att9b  8000.0    0.484375   0.499787   0.00    0.00    0.00    1.00    1.0\n",
       "att9c  8000.0    0.434750   0.495755   0.00    0.00    0.00    1.00    1.0\n",
       "att10  8000.0    0.239875   0.427034   0.00    0.00    0.00    0.00    1.0"
      ]
     },
     "execution_count": 56,
     "metadata": {},
     "output_type": "execute_result"
    }
   ],
   "source": [
    "data_train.describe().transpose()"
   ]
  },
  {
   "cell_type": "markdown",
   "metadata": {},
   "source": [
    "There are questions about `Supervised Learning` and `Unsupervised Learning`.<br>\n",
    "\n",
    "> **Supervised Learning**\n",
    "1. Create classifiers from train.csv data, in order to predict att10 as label based on the\n",
    "rest of the attributes. Use at least 5 algorithms <br> (`k-NN`, `Decision Tree`, `Logistic\n",
    "Regression`, `Voting`, `Averaging`, `Bagging`, `Random Forest`, `Averaging`, `Voting`, `AdaBoost`,\n",
    "`XGBoost`, `LightGBM`, `CatBoost`, or `Stacking`).<br>\n",
    "Use AUC for your model evaluation\n",
    "performance. \n",
    "2. Choose the best Classifier based on highest AUC and use it for predicting the `test.csv`\n",
    "data. \n",
    "\n",
    "> **Unsupervised Learning**\n",
    "1. Select `att1` and `att2` from `train.csv` and `test.csv` data. This step will result a new data\n",
    "frame or a table with size of 10,000 rows and 2 columns. Perform clustering using at\n",
    "least 3 algorithms (`K-Means Clustering`, `Hierarchical Clustering`, and `DBSCAN`) to\n",
    "cluster that new data frame. \n",
    "2.  Assume that the dataset you are working is the employee data, whether <br>\n",
    "`att1` is satisfaction level (the higher the satisfaction level, the more satisfy a person\n",
    "does in his employment)<br>\n",
    "`att2` is evaluation result (the higher the evaluation result, the better/harder a person\n",
    "works in the company)."
   ]
  },
  {
   "cell_type": "code",
   "execution_count": 57,
   "metadata": {
    "ExecuteTime": {
     "end_time": "2019-11-11T06:07:22.952000Z",
     "start_time": "2019-11-11T06:07:22.943000Z"
    }
   },
   "outputs": [
    {
     "data": {
      "text/plain": [
       "(8000, 21)"
      ]
     },
     "execution_count": 57,
     "metadata": {},
     "output_type": "execute_result"
    }
   ],
   "source": [
    "data_train.shape"
   ]
  },
  {
   "cell_type": "code",
   "execution_count": 58,
   "metadata": {
    "ExecuteTime": {
     "end_time": "2019-11-11T06:07:23.121000Z",
     "start_time": "2019-11-11T06:07:23.115000Z"
    }
   },
   "outputs": [
    {
     "data": {
      "text/plain": [
       "(2000, 20)"
      ]
     },
     "execution_count": 58,
     "metadata": {},
     "output_type": "execute_result"
    }
   ],
   "source": [
    "data_test.shape"
   ]
  },
  {
   "cell_type": "code",
   "execution_count": 59,
   "metadata": {
    "ExecuteTime": {
     "end_time": "2019-11-11T06:07:23.314000Z",
     "start_time": "2019-11-11T06:07:23.304000Z"
    }
   },
   "outputs": [],
   "source": [
    "x_train, x_test, y_train, y_test = train_test_split(data_train.drop(['att10'], axis=1), \n",
    "                                                    data_train['att10'], \n",
    "                                                    test_size=0.2, \n",
    "                                                    random_state=42)"
   ]
  },
  {
   "cell_type": "markdown",
   "metadata": {
    "ExecuteTime": {
     "end_time": "2019-11-11T03:32:58.182000Z",
     "start_time": "2019-11-11T03:32:58.160000Z"
    }
   },
   "source": [
    "# Supervised Learning"
   ]
  },
  {
   "cell_type": "markdown",
   "metadata": {},
   "source": [
    "## Logistic Regression"
   ]
  },
  {
   "cell_type": "code",
   "execution_count": 60,
   "metadata": {
    "ExecuteTime": {
     "end_time": "2019-11-11T06:07:24.340000Z",
     "start_time": "2019-11-11T06:07:23.875000Z"
    }
   },
   "outputs": [
    {
     "name": "stdout",
     "output_type": "stream",
     "text": [
      "Confusion matrix\n",
      "[[1136   97]\n",
      " [ 220  147]]\n"
     ]
    },
    {
     "data": {
      "image/png": "[encoded data removed]",
      "text/plain": [
       "<Figure size 432x288 with 2 Axes>"
      ]
     },
     "metadata": {
      "needs_background": "light"
     },
     "output_type": "display_data"
    },
    {
     "name": "stdout",
     "output_type": "stream",
     "text": [
      "              precision    recall  f1-score   support\n",
      "\n",
      "           0       0.84      0.92      0.88      1233\n",
      "           1       0.60      0.40      0.48       367\n",
      "\n",
      "    accuracy                           0.80      1600\n",
      "   macro avg       0.72      0.66      0.68      1600\n",
      "weighted avg       0.78      0.80      0.79      1600\n",
      "\n",
      "AUC Score LogisticRegression = 0.6609375241706832\n"
     ]
    }
   ],
   "source": [
    "from sklearn.linear_model import LogisticRegression\n",
    "\n",
    "# Binarize the output\n",
    "y = label_binarize(data_train['att10'], classes=[0, 1, 2])\n",
    "n_classes = y.shape[1]\n",
    "\n",
    "model_lr = LogisticRegression(solver='lbfgs', multi_class='auto', max_iter=5000, random_state=42)\n",
    "model_lr.fit(x_train, y_train)\n",
    "y_pred_test = model_lr.predict(x_test)\n",
    "\n",
    "report = classification_report(y_test, y_pred_test)\n",
    "auc_lr = roc_auc_score(y_test, y_pred_test)\n",
    "\n",
    "np.set_printoptions(precision=2)\n",
    "\n",
    "class_names = y_train.unique()\n",
    "plot_confusion_matrix(y_test, y_pred_test, classes=class_names,\n",
    "                      title='Confusion matrix {}'.format(model_lr.__class__.__name__))\n",
    "\n",
    "plt.show()\n",
    "\n",
    "print(report)\n",
    "print('AUC Score {} = {}'.format(model_lr.__class__.__name__, auc_lr))"
   ]
  },
  {
   "cell_type": "markdown",
   "metadata": {},
   "source": [
    "## Decision Tree"
   ]
  },
  {
   "cell_type": "code",
   "execution_count": 61,
   "metadata": {
    "ExecuteTime": {
     "end_time": "2019-11-11T06:07:25.197000Z",
     "start_time": "2019-11-11T06:07:24.969000Z"
    }
   },
   "outputs": [
    {
     "name": "stdout",
     "output_type": "stream",
     "text": [
      "Confusion matrix\n",
      "[[1210   23]\n",
      " [  17  350]]\n"
     ]
    },
    {
     "data": {
      "image/png": "[encoded data removed]",
      "text/plain": [
       "<Figure size 432x288 with 2 Axes>"
      ]
     },
     "metadata": {
      "needs_background": "light"
     },
     "output_type": "display_data"
    },
    {
     "name": "stdout",
     "output_type": "stream",
     "text": [
      "              precision    recall  f1-score   support\n",
      "\n",
      "           0       0.99      0.98      0.98      1233\n",
      "           1       0.94      0.95      0.95       367\n",
      "\n",
      "    accuracy                           0.97      1600\n",
      "   macro avg       0.96      0.97      0.96      1600\n",
      "weighted avg       0.98      0.97      0.98      1600\n",
      "\n",
      "AUC Score DecisionTreeClassifier = 0.9675123919639522\n"
     ]
    }
   ],
   "source": [
    "from sklearn.tree import DecisionTreeClassifier\n",
    "\n",
    "model_dt = DecisionTreeClassifier()\n",
    "model_dt.fit(x_train, y_train)\n",
    "\n",
    "y_pred_test = model_dt.predict(x_test)\n",
    "\n",
    "report = classification_report(y_test, y_pred_test)\n",
    "auc_dt = roc_auc_score(y_test, y_pred_test)\n",
    "\n",
    "np.set_printoptions(precision=2)\n",
    "\n",
    "class_names = y_train.unique()\n",
    "plot_confusion_matrix(y_test, y_pred_test, classes=class_names,\n",
    "                      title='Confusion matrix {}'.format(model_dt.__class__.__name__))\n",
    "\n",
    "plt.show()\n",
    "\n",
    "print(report)\n",
    "print('AUC Score {} = {}'.format(model_dt.__class__.__name__, auc_dt))"
   ]
  },
  {
   "cell_type": "markdown",
   "metadata": {},
   "source": [
    "##  KNN"
   ]
  },
  {
   "cell_type": "code",
   "execution_count": 65,
   "metadata": {
    "ExecuteTime": {
     "end_time": "2019-11-11T06:12:01.739000Z",
     "start_time": "2019-11-11T06:12:01.434000Z"
    }
   },
   "outputs": [
    {
     "name": "stdout",
     "output_type": "stream",
     "text": [
      "Confusion matrix\n",
      "[[1154   79]\n",
      " [  30  337]]\n"
     ]
    },
    {
     "data": {
      "image/png": "[encoded data removed]",
      "text/plain": [
       "<Figure size 432x288 with 2 Axes>"
      ]
     },
     "metadata": {
      "needs_background": "light"
     },
     "output_type": "display_data"
    },
    {
     "name": "stdout",
     "output_type": "stream",
     "text": [
      "              precision    recall  f1-score   support\n",
      "\n",
      "           0       0.97      0.94      0.95      1233\n",
      "           1       0.81      0.92      0.86       367\n",
      "\n",
      "    accuracy                           0.93      1600\n",
      "   macro avg       0.89      0.93      0.91      1600\n",
      "weighted avg       0.94      0.93      0.93      1600\n",
      "\n",
      "AUC Score KNeighborsClassifier = 0.9270923800747386\n"
     ]
    }
   ],
   "source": [
    "from sklearn.neighbors import KNeighborsClassifier\n",
    "\n",
    "model_knn = KNeighborsClassifier(n_neighbors=5, metric= 'euclidean')\n",
    "model_knn.fit(x_train, y_train)\n",
    "\n",
    "y_pred_test = model_knn.predict(x_test)\n",
    "\n",
    "report = classification_report(y_test, y_pred_test)\n",
    "auc_knn = roc_auc_score(y_test, y_pred_test)\n",
    "\n",
    "np.set_printoptions(precision=2)\n",
    "\n",
    "class_names = y_train.unique()\n",
    "plot_confusion_matrix(y_test, y_pred_test, classes=class_names,\n",
    "                      title='Confusion matrix {}'.format(model_knn.__class__.__name__))\n",
    "\n",
    "plt.show()\n",
    "\n",
    "print(report)\n",
    "print('AUC Score {} = {}'.format(model_knn.__class__.__name__, auc_knn))\n"
   ]
  },
  {
   "cell_type": "markdown",
   "metadata": {},
   "source": [
    "## Voting"
   ]
  },
  {
   "cell_type": "code",
   "execution_count": 66,
   "metadata": {
    "ExecuteTime": {
     "end_time": "2019-11-11T06:12:09.769000Z",
     "start_time": "2019-11-11T06:12:09.165000Z"
    }
   },
   "outputs": [
    {
     "name": "stdout",
     "output_type": "stream",
     "text": [
      "Confusion matrix\n",
      "[[1206   27]\n",
      " [  26  341]]\n"
     ]
    },
    {
     "data": {
      "image/png": "[encoded data removed]",
      "text/plain": [
       "<Figure size 432x288 with 2 Axes>"
      ]
     },
     "metadata": {
      "needs_background": "light"
     },
     "output_type": "display_data"
    },
    {
     "name": "stdout",
     "output_type": "stream",
     "text": [
      "              precision    recall  f1-score   support\n",
      "\n",
      "           0       0.98      0.98      0.98      1233\n",
      "           1       0.93      0.93      0.93       367\n",
      "\n",
      "    accuracy                           0.97      1600\n",
      "   macro avg       0.95      0.95      0.95      1600\n",
      "weighted avg       0.97      0.97      0.97      1600\n",
      "\n",
      "AUC Score VotingClassifier = 0.9536287515662604\n"
     ]
    }
   ],
   "source": [
    "from sklearn.ensemble import VotingClassifier\n",
    "\n",
    "# Create voting classifier\n",
    "model_voting = VotingClassifier(estimators=[\n",
    "('lr', model_lr),\n",
    "('dt', model_dt),\n",
    "('knn', model_knn)])\n",
    "\n",
    "# Fit it to the training set and predict\n",
    "model_voting.fit(x_train, y_train)\n",
    "y_pred_test = model_voting.predict(x_test)\n",
    "\n",
    "report = classification_report(y_test, y_pred_test)\n",
    "auc_voting = roc_auc_score(y_test, y_pred_test)\n",
    "\n",
    "np.set_printoptions(precision=2)\n",
    "\n",
    "class_names = y_train.unique()\n",
    "plot_confusion_matrix(y_test, y_pred_test, classes=class_names,\n",
    "                      title='Confusion matrix {}'.format(model_voting.__class__.__name__))\n",
    "\n",
    "plt.show()\n",
    "\n",
    "print(report)\n",
    "print('AUC Score {} = {}'.format(model_voting.__class__.__name__, auc_voting))\n"
   ]
  },
  {
   "cell_type": "markdown",
   "metadata": {},
   "source": [
    "## Averaging"
   ]
  },
  {
   "cell_type": "code",
   "execution_count": 68,
   "metadata": {
    "ExecuteTime": {
     "end_time": "2019-11-11T06:15:24.353000Z",
     "start_time": "2019-11-11T06:15:23.688000Z"
    }
   },
   "outputs": [
    {
     "name": "stdout",
     "output_type": "stream",
     "text": [
      "Confusion matrix\n",
      "[[1214   19]\n",
      " [  20  347]]\n"
     ]
    },
    {
     "data": {
      "image/png": "[encoded data removed]",
      "text/plain": [
       "<Figure size 432x288 with 2 Axes>"
      ]
     },
     "metadata": {
      "needs_background": "light"
     },
     "output_type": "display_data"
    },
    {
     "name": "stdout",
     "output_type": "stream",
     "text": [
      "              precision    recall  f1-score   support\n",
      "\n",
      "           0       0.98      0.98      0.98      1233\n",
      "           1       0.95      0.95      0.95       367\n",
      "\n",
      "    accuracy                           0.98      1600\n",
      "   macro avg       0.97      0.97      0.97      1600\n",
      "weighted avg       0.98      0.98      0.98      1600\n",
      "\n",
      "AUC Score VotingClassifier = 0.9650472585196824\n"
     ]
    }
   ],
   "source": [
    "model_avg = VotingClassifier(\n",
    "estimators=[\n",
    "('lr', model_lr),\n",
    "('dt', model_dt),\n",
    "('knn', model_knn)],\n",
    "voting='soft'\n",
    ")\n",
    "\n",
    "# Fit it to the training set and predict\n",
    "model_avg.fit(x_train, y_train)\n",
    "y_pred_test = model_avg.predict(x_test)\n",
    "\n",
    "report = classification_report(y_test, y_pred_test)\n",
    "auc_avg = roc_auc_score(y_test, y_pred_test)\n",
    "\n",
    "np.set_printoptions(precision=2)\n",
    "\n",
    "class_names = y_train.unique()\n",
    "plot_confusion_matrix(y_test, y_pred_test, classes=class_names,\n",
    "                      title='Confusion matrix {}'.format(model_avg.__class__.__name__))\n",
    "\n",
    "plt.show()\n",
    "\n",
    "print(report)\n",
    "print('AUC Score {} = {}'.format(model_avg.__class__.__name__, auc_avg))\n"
   ]
  },
  {
   "cell_type": "markdown",
   "metadata": {},
   "source": [
    "## Bagging"
   ]
  },
  {
   "cell_type": "code",
   "execution_count": 76,
   "metadata": {
    "ExecuteTime": {
     "end_time": "2019-11-11T06:21:34.229000Z",
     "start_time": "2019-11-11T06:21:33.680000Z"
    }
   },
   "outputs": [
    {
     "name": "stdout",
     "output_type": "stream",
     "text": [
      "Confusion matrix\n",
      "[[1219   14]\n",
      " [  43  324]]\n"
     ]
    },
    {
     "data": {
      "image/png": "[encoded data removed]",
      "text/plain": [
       "<Figure size 432x288 with 2 Axes>"
      ]
     },
     "metadata": {
      "needs_background": "light"
     },
     "output_type": "display_data"
    },
    {
     "name": "stdout",
     "output_type": "stream",
     "text": [
      "              precision    recall  f1-score   support\n",
      "\n",
      "           0       0.97      0.99      0.98      1233\n",
      "           1       0.96      0.88      0.92       367\n",
      "\n",
      "    accuracy                           0.96      1600\n",
      "   macro avg       0.96      0.94      0.95      1600\n",
      "weighted avg       0.96      0.96      0.96      1600\n",
      "\n",
      "AUC Score BaggingClassifier = 0.9357396836761981\n"
     ]
    }
   ],
   "source": [
    "from sklearn.ensemble import BaggingClassifier\n",
    "\n",
    "model_bagging = BaggingClassifier(base_estimator= model_knn,\n",
    "                                   max_samples=0.5, max_features=0.5)\n",
    "\n",
    "# Fit it to the training set and predict\n",
    "model_bagging.fit(x_train, y_train)\n",
    "y_pred_test = model_bagging.predict(x_test)\n",
    "\n",
    "report = classification_report(y_test, y_pred_test)\n",
    "auc_bagging = roc_auc_score(y_test, y_pred_test)\n",
    "\n",
    "np.set_printoptions(precision=2)\n",
    "\n",
    "class_names = y_train.unique()\n",
    "plot_confusion_matrix(y_test, y_pred_test, classes=class_names,\n",
    "                      title='Confusion matrix {}'.format(model_bagging.__class__.__name__))\n",
    "\n",
    "plt.show()\n",
    "\n",
    "print(report)\n",
    "print('AUC Score {} = {}'.format(model_bagging.__class__.__name__, auc_bagging))"
   ]
  },
  {
   "cell_type": "markdown",
   "metadata": {},
   "source": [
    "## Random Forest"
   ]
  },
  {
   "cell_type": "code",
   "execution_count": 79,
   "metadata": {
    "ExecuteTime": {
     "end_time": "2019-11-11T06:24:43.358000Z",
     "start_time": "2019-11-11T06:24:42.940000Z"
    }
   },
   "outputs": [
    {
     "name": "stdout",
     "output_type": "stream",
     "text": [
      "Confusion matrix\n",
      "[[1226    7]\n",
      " [ 211  156]]\n"
     ]
    },
    {
     "data": {
      "image/png": "[encoded data removed]",
      "text/plain": [
       "<Figure size 432x288 with 2 Axes>"
      ]
     },
     "metadata": {
      "needs_background": "light"
     },
     "output_type": "display_data"
    },
    {
     "name": "stdout",
     "output_type": "stream",
     "text": [
      "              precision    recall  f1-score   support\n",
      "\n",
      "           0       0.85      0.99      0.92      1233\n",
      "           1       0.96      0.43      0.59       367\n",
      "\n",
      "    accuracy                           0.86      1600\n",
      "   macro avg       0.91      0.71      0.75      1600\n",
      "weighted avg       0.88      0.86      0.84      1600\n",
      "\n",
      "AUC Score RandomForestClassifier = 0.709695454917118\n"
     ]
    }
   ],
   "source": [
    "from sklearn.ensemble import RandomForestClassifier\n",
    "\n",
    "model_rf = RandomForestClassifier(n_estimators=100, max_depth=2,\n",
    "                              random_state=0)\n",
    "\n",
    "# Fit it to the training set and predict\n",
    "model_rf.fit(x_train, y_train)\n",
    "y_pred_test = model_rf.predict(x_test)\n",
    "\n",
    "report = classification_report(y_test, y_pred_test)\n",
    "auc_rf = roc_auc_score(y_test, y_pred_test)\n",
    "\n",
    "np.set_printoptions(precision=2)\n",
    "\n",
    "class_names = y_train.unique()\n",
    "plot_confusion_matrix(y_test, y_pred_test, classes=class_names,\n",
    "                      title='Confusion matrix {}'.format(model_rf.__class__.__name__))\n",
    "\n",
    "plt.show()\n",
    "\n",
    "print(report)\n",
    "print('AUC Score {} = {}'.format(model_rf.__class__.__name__, auc_rf))"
   ]
  },
  {
   "cell_type": "markdown",
   "metadata": {},
   "source": [
    "## Adaboost"
   ]
  },
  {
   "cell_type": "code",
   "execution_count": 80,
   "metadata": {
    "ExecuteTime": {
     "end_time": "2019-11-11T06:27:00.805000Z",
     "start_time": "2019-11-11T06:26:59.435000Z"
    },
    "scrolled": false
   },
   "outputs": [
    {
     "name": "stdout",
     "output_type": "stream",
     "text": [
      "Confusion matrix\n",
      "[[1204   29]\n",
      " [  29  338]]\n"
     ]
    },
    {
     "data": {
      "image/png": "[encoded data removed]",
      "text/plain": [
       "<Figure size 432x288 with 2 Axes>"
      ]
     },
     "metadata": {
      "needs_background": "light"
     },
     "output_type": "display_data"
    },
    {
     "name": "stdout",
     "output_type": "stream",
     "text": [
      "              precision    recall  f1-score   support\n",
      "\n",
      "           0       0.98      0.98      0.98      1233\n",
      "           1       0.92      0.92      0.92       367\n",
      "\n",
      "    accuracy                           0.96      1600\n",
      "   macro avg       0.95      0.95      0.95      1600\n",
      "weighted avg       0.96      0.96      0.96      1600\n",
      "\n",
      "AUC Score AdaBoostClassifier = 0.9487305280976596\n"
     ]
    }
   ],
   "source": [
    "from sklearn.ensemble import AdaBoostClassifier\n",
    "\n",
    "model_ada = AdaBoostClassifier(\n",
    "    DecisionTreeClassifier(max_depth=1),\n",
    "    n_estimators=200,\n",
    "    learning_rate=1\n",
    "    )\n",
    "\n",
    "\n",
    "# Fit it to the training set and predict\n",
    "model_ada.fit(x_train, y_train)\n",
    "y_pred_test = model_ada.predict(x_test)\n",
    "\n",
    "report = classification_report(y_test, y_pred_test)\n",
    "auc_ada = roc_auc_score(y_test, y_pred_test)\n",
    "\n",
    "np.set_printoptions(precision=2)\n",
    "\n",
    "class_names = y_train.unique()\n",
    "plot_confusion_matrix(y_test, y_pred_test, classes=class_names,\n",
    "                      title='Confusion matrix {}'.format(model_ada.__class__.__name__))\n",
    "\n",
    "plt.show()\n",
    "\n",
    "print(report)\n",
    "print('AUC Score {} = {}'.format(model_ada.__class__.__name__, auc_ada))"
   ]
  },
  {
   "cell_type": "markdown",
   "metadata": {},
   "source": [
    "## XGboost"
   ]
  },
  {
   "cell_type": "code",
   "execution_count": 84,
   "metadata": {
    "ExecuteTime": {
     "end_time": "2019-11-11T06:34:49.170000Z",
     "start_time": "2019-11-11T06:34:48.108000Z"
    }
   },
   "outputs": [
    {
     "name": "stdout",
     "output_type": "stream",
     "text": [
      "Confusion matrix\n",
      "[[1211   22]\n",
      " [  28  339]]\n"
     ]
    },
    {
     "data": {
      "image/png": "[encoded data removed]",
      "text/plain": [
       "<Figure size 432x288 with 2 Axes>"
      ]
     },
     "metadata": {
      "needs_background": "light"
     },
     "output_type": "display_data"
    },
    {
     "name": "stdout",
     "output_type": "stream",
     "text": [
      "              precision    recall  f1-score   support\n",
      "\n",
      "           0       0.98      0.98      0.98      1233\n",
      "           1       0.94      0.92      0.93       367\n",
      "\n",
      "    accuracy                           0.97      1600\n",
      "   macro avg       0.96      0.95      0.96      1600\n",
      "weighted avg       0.97      0.97      0.97      1600\n",
      "\n",
      "AUC Score XGBClassifier = 0.952931530946209\n"
     ]
    }
   ],
   "source": [
    "import xgboost as xgb\n",
    "\n",
    "model_xgb =xgb.XGBClassifier(random_state=42,learning_rate=0.01)\n",
    "\n",
    "# Fit it to the training set and predict\n",
    "model_xgb.fit(x_train, y_train)\n",
    "y_pred_test = model_xgb.predict(x_test)\n",
    "\n",
    "report = classification_report(y_test, y_pred_test)\n",
    "auc_xgb = roc_auc_score(y_test, y_pred_test)\n",
    "\n",
    "np.set_printoptions(precision=2)\n",
    "\n",
    "class_names = y_train.unique()\n",
    "plot_confusion_matrix(y_test, y_pred_test, classes=class_names,\n",
    "                      title='Confusion matrix {}'.format(model_xgb.__class__.__name__))\n",
    "\n",
    "plt.show()\n",
    "\n",
    "print(report)\n",
    "print('AUC Score {} = {}'.format(model_xgb.__class__.__name__, auc_xgb))"
   ]
  },
  {
   "cell_type": "markdown",
   "metadata": {},
   "source": [
    "## Stacking"
   ]
  },
  {
   "cell_type": "code",
   "execution_count": 109,
   "metadata": {
    "ExecuteTime": {
     "end_time": "2019-11-11T07:09:13.727000Z",
     "start_time": "2019-11-11T07:09:10.197000Z"
    }
   },
   "outputs": [
    {
     "name": "stdout",
     "output_type": "stream",
     "text": [
      "Confusion matrix\n",
      "[[1212   21]\n",
      " [  17  350]]\n"
     ]
    },
    {
     "data": {
      "image/png": "[encoded data removed]",
      "text/plain": [
       "<Figure size 432x288 with 2 Axes>"
      ]
     },
     "metadata": {
      "needs_background": "light"
     },
     "output_type": "display_data"
    },
    {
     "name": "stdout",
     "output_type": "stream",
     "text": [
      "              precision    recall  f1-score   support\n",
      "\n",
      "           0       0.99      0.98      0.98      1233\n",
      "           1       0.94      0.95      0.95       367\n",
      "\n",
      "    accuracy                           0.98      1600\n",
      "   macro avg       0.96      0.97      0.97      1600\n",
      "weighted avg       0.98      0.98      0.98      1600\n",
      "\n",
      "AUC Score StackingClassifier = 0.9683234219720626\n"
     ]
    }
   ],
   "source": [
    "from mlxtend.classifier import StackingClassifier\n",
    "\n",
    "# Build the Stacking classifier\n",
    "model_stacking = StackingClassifier(classifiers=[model_dt, model_ada, model_xgb, model_avg, model_voting], \n",
    "                          meta_classifier=model_lr,\n",
    "                          use_probas=False,\n",
    "                          use_features_in_secondary=False\n",
    "                         )\n",
    "\n",
    "model_stacking.fit(x_train, y_train)\n",
    "y_pred_test = model_stacking.predict(x_test)\n",
    "\n",
    "report = classification_report(y_test, y_pred_test)\n",
    "auc_stacking = roc_auc_score(y_test, y_pred_test)\n",
    "\n",
    "np.set_printoptions(precision=2)\n",
    "\n",
    "class_names = y_train.unique()\n",
    "plot_confusion_matrix(y_test, y_pred_test, classes=class_names,\n",
    "                      title='Confusion matrix {}'.format(model_stacking.__class__.__name__))\n",
    "\n",
    "plt.show()\n",
    "\n",
    "print(report)\n",
    "print('AUC Score {} = {}'.format(model_stacking.__class__.__name__, auc_stacking))"
   ]
  },
  {
   "cell_type": "markdown",
   "metadata": {},
   "source": [
    "<div class=\"alert alert-warning\">\n",
    "\n",
    " <ul>\n",
    "  <li>The best Classifier based on highest AUC is Stacking with AUC Score 0.968 </li>\n",
    "</ul> \n",
    "\n",
    "</div>"
   ]
  },
  {
   "cell_type": "markdown",
   "metadata": {},
   "source": [
    "## Predicting the `test.csv`"
   ]
  },
  {
   "cell_type": "code",
   "execution_count": 200,
   "metadata": {
    "ExecuteTime": {
     "end_time": "2019-11-11T07:46:44.660000Z",
     "start_time": "2019-11-11T07:46:41.157000Z"
    }
   },
   "outputs": [],
   "source": [
    "# Build the Stacking classifier\n",
    "model_stacking = StackingClassifier(classifiers=[model_dt, model_ada, model_xgb, model_avg, model_voting], \n",
    "                          meta_classifier=model_lr\n",
    "                         )\n",
    "model_stacking.fit(x_train, y_train)\n",
    "y_pred_test = model_stacking.predict(data_test)\n",
    "y_pred_test_proba = model_stacking.predict_proba(data_test)\n"
   ]
  },
  {
   "cell_type": "code",
   "execution_count": 201,
   "metadata": {
    "ExecuteTime": {
     "end_time": "2019-11-11T07:46:44.667000Z",
     "start_time": "2019-11-11T07:46:44.662000Z"
    }
   },
   "outputs": [
    {
     "data": {
      "text/plain": [
       "array([0, 0, 0, ..., 1, 0, 0], dtype=int64)"
      ]
     },
     "execution_count": 201,
     "metadata": {},
     "output_type": "execute_result"
    }
   ],
   "source": [
    "y_pred_test"
   ]
  },
  {
   "cell_type": "code",
   "execution_count": 204,
   "metadata": {
    "ExecuteTime": {
     "end_time": "2019-11-11T07:46:51.202000Z",
     "start_time": "2019-11-11T07:46:51.194000Z"
    }
   },
   "outputs": [
    {
     "data": {
      "text/plain": [
       "array([[9.99e-01, 1.35e-03],\n",
       "       [9.99e-01, 1.35e-03],\n",
       "       [9.99e-01, 1.35e-03],\n",
       "       ...,\n",
       "       [9.41e-04, 9.99e-01],\n",
       "       [9.99e-01, 1.35e-03],\n",
       "       [9.99e-01, 1.35e-03]])"
      ]
     },
     "execution_count": 204,
     "metadata": {},
     "output_type": "execute_result"
    }
   ],
   "source": [
    "y_pred_test_proba"
   ]
  },
  {
   "cell_type": "code",
   "execution_count": 209,
   "metadata": {
    "ExecuteTime": {
     "end_time": "2019-11-11T07:49:33.696000Z",
     "start_time": "2019-11-11T07:49:33.686000Z"
    }
   },
   "outputs": [
    {
     "data": {
      "text/plain": [
       "numpy.ndarray"
      ]
     },
     "execution_count": 209,
     "metadata": {},
     "output_type": "execute_result"
    }
   ],
   "source": [
    "type(y_pred_test_proba[:,1])"
   ]
  },
  {
   "cell_type": "code",
   "execution_count": 207,
   "metadata": {
    "ExecuteTime": {
     "end_time": "2019-11-11T07:48:44.237000Z",
     "start_time": "2019-11-11T07:48:44.223000Z"
    }
   },
   "outputs": [],
   "source": [
    "data_test['pred'] = y_pred_test\n",
    "data_test['pred_proba'] = y_pred_test_proba[:,1]"
   ]
  },
  {
   "cell_type": "code",
   "execution_count": 208,
   "metadata": {
    "ExecuteTime": {
     "end_time": "2019-11-11T07:48:47.765000Z",
     "start_time": "2019-11-11T07:48:47.732000Z"
    }
   },
   "outputs": [
    {
     "data": {
      "text/html": [
       "<div>\n",
       "<style scoped>\n",
       "    .dataframe tbody tr th:only-of-type {\n",
       "        vertical-align: middle;\n",
       "    }\n",
       "\n",
       "    .dataframe tbody tr th {\n",
       "        vertical-align: top;\n",
       "    }\n",
       "\n",
       "    .dataframe thead th {\n",
       "        text-align: right;\n",
       "    }\n",
       "</style>\n",
       "<table border=\"1\" class=\"dataframe\">\n",
       "  <thead>\n",
       "    <tr style=\"text-align: right;\">\n",
       "      <th></th>\n",
       "      <th>att1</th>\n",
       "      <th>att2</th>\n",
       "      <th>att3</th>\n",
       "      <th>att4</th>\n",
       "      <th>att5</th>\n",
       "      <th>att6</th>\n",
       "      <th>att7</th>\n",
       "      <th>att8a</th>\n",
       "      <th>att8b</th>\n",
       "      <th>att8c</th>\n",
       "      <th>...</th>\n",
       "      <th>att8f</th>\n",
       "      <th>att8g</th>\n",
       "      <th>att8h</th>\n",
       "      <th>att8i</th>\n",
       "      <th>att8j</th>\n",
       "      <th>att9a</th>\n",
       "      <th>att9b</th>\n",
       "      <th>att9c</th>\n",
       "      <th>pred</th>\n",
       "      <th>pred_proba</th>\n",
       "    </tr>\n",
       "  </thead>\n",
       "  <tbody>\n",
       "    <tr>\n",
       "      <td>0</td>\n",
       "      <td>0.66</td>\n",
       "      <td>0.62</td>\n",
       "      <td>4</td>\n",
       "      <td>250</td>\n",
       "      <td>2</td>\n",
       "      <td>0</td>\n",
       "      <td>0</td>\n",
       "      <td>0</td>\n",
       "      <td>1</td>\n",
       "      <td>0</td>\n",
       "      <td>...</td>\n",
       "      <td>0</td>\n",
       "      <td>0</td>\n",
       "      <td>0</td>\n",
       "      <td>0</td>\n",
       "      <td>0</td>\n",
       "      <td>0</td>\n",
       "      <td>0</td>\n",
       "      <td>1</td>\n",
       "      <td>0</td>\n",
       "      <td>0.001354</td>\n",
       "    </tr>\n",
       "    <tr>\n",
       "      <td>1</td>\n",
       "      <td>0.66</td>\n",
       "      <td>0.50</td>\n",
       "      <td>4</td>\n",
       "      <td>263</td>\n",
       "      <td>3</td>\n",
       "      <td>0</td>\n",
       "      <td>0</td>\n",
       "      <td>0</td>\n",
       "      <td>0</td>\n",
       "      <td>0</td>\n",
       "      <td>...</td>\n",
       "      <td>0</td>\n",
       "      <td>0</td>\n",
       "      <td>1</td>\n",
       "      <td>0</td>\n",
       "      <td>0</td>\n",
       "      <td>1</td>\n",
       "      <td>0</td>\n",
       "      <td>0</td>\n",
       "      <td>0</td>\n",
       "      <td>0.001354</td>\n",
       "    </tr>\n",
       "    <tr>\n",
       "      <td>2</td>\n",
       "      <td>0.32</td>\n",
       "      <td>0.74</td>\n",
       "      <td>3</td>\n",
       "      <td>211</td>\n",
       "      <td>3</td>\n",
       "      <td>0</td>\n",
       "      <td>0</td>\n",
       "      <td>0</td>\n",
       "      <td>0</td>\n",
       "      <td>0</td>\n",
       "      <td>...</td>\n",
       "      <td>0</td>\n",
       "      <td>0</td>\n",
       "      <td>0</td>\n",
       "      <td>0</td>\n",
       "      <td>1</td>\n",
       "      <td>0</td>\n",
       "      <td>1</td>\n",
       "      <td>0</td>\n",
       "      <td>0</td>\n",
       "      <td>0.001354</td>\n",
       "    </tr>\n",
       "    <tr>\n",
       "      <td>3</td>\n",
       "      <td>0.37</td>\n",
       "      <td>0.57</td>\n",
       "      <td>2</td>\n",
       "      <td>155</td>\n",
       "      <td>3</td>\n",
       "      <td>0</td>\n",
       "      <td>0</td>\n",
       "      <td>0</td>\n",
       "      <td>0</td>\n",
       "      <td>0</td>\n",
       "      <td>...</td>\n",
       "      <td>0</td>\n",
       "      <td>0</td>\n",
       "      <td>0</td>\n",
       "      <td>1</td>\n",
       "      <td>0</td>\n",
       "      <td>0</td>\n",
       "      <td>1</td>\n",
       "      <td>0</td>\n",
       "      <td>1</td>\n",
       "      <td>0.999059</td>\n",
       "    </tr>\n",
       "    <tr>\n",
       "      <td>4</td>\n",
       "      <td>0.41</td>\n",
       "      <td>0.49</td>\n",
       "      <td>2</td>\n",
       "      <td>130</td>\n",
       "      <td>3</td>\n",
       "      <td>0</td>\n",
       "      <td>0</td>\n",
       "      <td>0</td>\n",
       "      <td>0</td>\n",
       "      <td>0</td>\n",
       "      <td>...</td>\n",
       "      <td>1</td>\n",
       "      <td>0</td>\n",
       "      <td>0</td>\n",
       "      <td>0</td>\n",
       "      <td>0</td>\n",
       "      <td>0</td>\n",
       "      <td>1</td>\n",
       "      <td>0</td>\n",
       "      <td>1</td>\n",
       "      <td>0.999059</td>\n",
       "    </tr>\n",
       "    <tr>\n",
       "      <td>...</td>\n",
       "      <td>...</td>\n",
       "      <td>...</td>\n",
       "      <td>...</td>\n",
       "      <td>...</td>\n",
       "      <td>...</td>\n",
       "      <td>...</td>\n",
       "      <td>...</td>\n",
       "      <td>...</td>\n",
       "      <td>...</td>\n",
       "      <td>...</td>\n",
       "      <td>...</td>\n",
       "      <td>...</td>\n",
       "      <td>...</td>\n",
       "      <td>...</td>\n",
       "      <td>...</td>\n",
       "      <td>...</td>\n",
       "      <td>...</td>\n",
       "      <td>...</td>\n",
       "      <td>...</td>\n",
       "      <td>...</td>\n",
       "      <td>...</td>\n",
       "    </tr>\n",
       "    <tr>\n",
       "      <td>1995</td>\n",
       "      <td>0.53</td>\n",
       "      <td>0.70</td>\n",
       "      <td>4</td>\n",
       "      <td>243</td>\n",
       "      <td>3</td>\n",
       "      <td>0</td>\n",
       "      <td>0</td>\n",
       "      <td>0</td>\n",
       "      <td>0</td>\n",
       "      <td>0</td>\n",
       "      <td>...</td>\n",
       "      <td>0</td>\n",
       "      <td>0</td>\n",
       "      <td>0</td>\n",
       "      <td>0</td>\n",
       "      <td>1</td>\n",
       "      <td>0</td>\n",
       "      <td>1</td>\n",
       "      <td>0</td>\n",
       "      <td>0</td>\n",
       "      <td>0.001354</td>\n",
       "    </tr>\n",
       "    <tr>\n",
       "      <td>1996</td>\n",
       "      <td>0.66</td>\n",
       "      <td>0.67</td>\n",
       "      <td>2</td>\n",
       "      <td>255</td>\n",
       "      <td>3</td>\n",
       "      <td>0</td>\n",
       "      <td>0</td>\n",
       "      <td>0</td>\n",
       "      <td>0</td>\n",
       "      <td>0</td>\n",
       "      <td>...</td>\n",
       "      <td>0</td>\n",
       "      <td>0</td>\n",
       "      <td>0</td>\n",
       "      <td>0</td>\n",
       "      <td>1</td>\n",
       "      <td>0</td>\n",
       "      <td>1</td>\n",
       "      <td>0</td>\n",
       "      <td>1</td>\n",
       "      <td>0.973514</td>\n",
       "    </tr>\n",
       "    <tr>\n",
       "      <td>1997</td>\n",
       "      <td>0.40</td>\n",
       "      <td>0.46</td>\n",
       "      <td>2</td>\n",
       "      <td>132</td>\n",
       "      <td>3</td>\n",
       "      <td>0</td>\n",
       "      <td>0</td>\n",
       "      <td>0</td>\n",
       "      <td>0</td>\n",
       "      <td>0</td>\n",
       "      <td>...</td>\n",
       "      <td>0</td>\n",
       "      <td>1</td>\n",
       "      <td>0</td>\n",
       "      <td>0</td>\n",
       "      <td>0</td>\n",
       "      <td>0</td>\n",
       "      <td>1</td>\n",
       "      <td>0</td>\n",
       "      <td>1</td>\n",
       "      <td>0.999059</td>\n",
       "    </tr>\n",
       "    <tr>\n",
       "      <td>1998</td>\n",
       "      <td>0.24</td>\n",
       "      <td>0.76</td>\n",
       "      <td>6</td>\n",
       "      <td>213</td>\n",
       "      <td>4</td>\n",
       "      <td>0</td>\n",
       "      <td>0</td>\n",
       "      <td>0</td>\n",
       "      <td>0</td>\n",
       "      <td>0</td>\n",
       "      <td>...</td>\n",
       "      <td>0</td>\n",
       "      <td>0</td>\n",
       "      <td>0</td>\n",
       "      <td>1</td>\n",
       "      <td>0</td>\n",
       "      <td>0</td>\n",
       "      <td>0</td>\n",
       "      <td>1</td>\n",
       "      <td>0</td>\n",
       "      <td>0.001354</td>\n",
       "    </tr>\n",
       "    <tr>\n",
       "      <td>1999</td>\n",
       "      <td>0.90</td>\n",
       "      <td>0.79</td>\n",
       "      <td>3</td>\n",
       "      <td>154</td>\n",
       "      <td>2</td>\n",
       "      <td>0</td>\n",
       "      <td>0</td>\n",
       "      <td>0</td>\n",
       "      <td>0</td>\n",
       "      <td>0</td>\n",
       "      <td>...</td>\n",
       "      <td>0</td>\n",
       "      <td>1</td>\n",
       "      <td>0</td>\n",
       "      <td>0</td>\n",
       "      <td>0</td>\n",
       "      <td>0</td>\n",
       "      <td>0</td>\n",
       "      <td>1</td>\n",
       "      <td>0</td>\n",
       "      <td>0.001354</td>\n",
       "    </tr>\n",
       "  </tbody>\n",
       "</table>\n",
       "<p>2000 rows × 22 columns</p>\n",
       "</div>"
      ],
      "text/plain": [
       "      att1  att2  att3  att4  att5  att6  att7  att8a  att8b  att8c  ...  \\\n",
       "0     0.66  0.62     4   250     2     0     0      0      1      0  ...   \n",
       "1     0.66  0.50     4   263     3     0     0      0      0      0  ...   \n",
       "2     0.32  0.74     3   211     3     0     0      0      0      0  ...   \n",
       "3     0.37  0.57     2   155     3     0     0      0      0      0  ...   \n",
       "4     0.41  0.49     2   130     3     0     0      0      0      0  ...   \n",
       "...    ...   ...   ...   ...   ...   ...   ...    ...    ...    ...  ...   \n",
       "1995  0.53  0.70     4   243     3     0     0      0      0      0  ...   \n",
       "1996  0.66  0.67     2   255     3     0     0      0      0      0  ...   \n",
       "1997  0.40  0.46     2   132     3     0     0      0      0      0  ...   \n",
       "1998  0.24  0.76     6   213     4     0     0      0      0      0  ...   \n",
       "1999  0.90  0.79     3   154     2     0     0      0      0      0  ...   \n",
       "\n",
       "      att8f  att8g  att8h  att8i  att8j  att9a  att9b  att9c  pred  pred_proba  \n",
       "0         0      0      0      0      0      0      0      1     0    0.001354  \n",
       "1         0      0      1      0      0      1      0      0     0    0.001354  \n",
       "2         0      0      0      0      1      0      1      0     0    0.001354  \n",
       "3         0      0      0      1      0      0      1      0     1    0.999059  \n",
       "4         1      0      0      0      0      0      1      0     1    0.999059  \n",
       "...     ...    ...    ...    ...    ...    ...    ...    ...   ...         ...  \n",
       "1995      0      0      0      0      1      0      1      0     0    0.001354  \n",
       "1996      0      0      0      0      1      0      1      0     1    0.973514  \n",
       "1997      0      1      0      0      0      0      1      0     1    0.999059  \n",
       "1998      0      0      0      1      0      0      0      1     0    0.001354  \n",
       "1999      0      1      0      0      0      0      0      1     0    0.001354  \n",
       "\n",
       "[2000 rows x 22 columns]"
      ]
     },
     "execution_count": 208,
     "metadata": {},
     "output_type": "execute_result"
    }
   ],
   "source": [
    "data_test"
   ]
  },
  {
   "cell_type": "code",
   "execution_count": 212,
   "metadata": {
    "ExecuteTime": {
     "end_time": "2019-11-11T07:52:25.240000Z",
     "start_time": "2019-11-11T07:52:25.143000Z"
    }
   },
   "outputs": [],
   "source": [
    "data_export = data_test[['pred', 'pred_proba']]\n",
    "data_export.to_csv('data_pred_proba.csv')"
   ]
  },
  {
   "cell_type": "markdown",
   "metadata": {},
   "source": [
    "# Unsupervised Learning"
   ]
  },
  {
   "cell_type": "code",
   "execution_count": 214,
   "metadata": {
    "ExecuteTime": {
     "end_time": "2019-11-11T07:56:54.281000Z",
     "start_time": "2019-11-11T07:56:54.261000Z"
    }
   },
   "outputs": [
    {
     "name": "stderr",
     "output_type": "stream",
     "text": [
      "D:\\Anaconda\\lib\\site-packages\\ipykernel_launcher.py:1: FutureWarning: Sorting because non-concatenation axis is not aligned. A future version\n",
      "of pandas will change to not sort by default.\n",
      "\n",
      "To accept the future behavior, pass 'sort=False'.\n",
      "\n",
      "To retain the current behavior and silence the warning, pass 'sort=True'.\n",
      "\n",
      "  \"\"\"Entry point for launching an IPython kernel.\n"
     ]
    },
    {
     "data": {
      "text/html": [
       "<div>\n",
       "<style scoped>\n",
       "    .dataframe tbody tr th:only-of-type {\n",
       "        vertical-align: middle;\n",
       "    }\n",
       "\n",
       "    .dataframe tbody tr th {\n",
       "        vertical-align: top;\n",
       "    }\n",
       "\n",
       "    .dataframe thead th {\n",
       "        text-align: right;\n",
       "    }\n",
       "</style>\n",
       "<table border=\"1\" class=\"dataframe\">\n",
       "  <thead>\n",
       "    <tr style=\"text-align: right;\">\n",
       "      <th></th>\n",
       "      <th>att1</th>\n",
       "      <th>att2</th>\n",
       "    </tr>\n",
       "  </thead>\n",
       "  <tbody>\n",
       "    <tr>\n",
       "      <td>0</td>\n",
       "      <td>0.16</td>\n",
       "      <td>0.82</td>\n",
       "    </tr>\n",
       "    <tr>\n",
       "      <td>1</td>\n",
       "      <td>0.43</td>\n",
       "      <td>0.48</td>\n",
       "    </tr>\n",
       "    <tr>\n",
       "      <td>2</td>\n",
       "      <td>0.39</td>\n",
       "      <td>0.54</td>\n",
       "    </tr>\n",
       "    <tr>\n",
       "      <td>3</td>\n",
       "      <td>0.73</td>\n",
       "      <td>1.00</td>\n",
       "    </tr>\n",
       "    <tr>\n",
       "      <td>4</td>\n",
       "      <td>0.44</td>\n",
       "      <td>0.46</td>\n",
       "    </tr>\n",
       "  </tbody>\n",
       "</table>\n",
       "</div>"
      ],
      "text/plain": [
       "   att1  att2\n",
       "0  0.16  0.82\n",
       "1  0.43  0.48\n",
       "2  0.39  0.54\n",
       "3  0.73  1.00\n",
       "4  0.44  0.46"
      ]
     },
     "execution_count": 214,
     "metadata": {},
     "output_type": "execute_result"
    }
   ],
   "source": [
    "data_un = pd.concat([data_train,data_test])\n",
    "data_un = data_un[['att1','att2']]\n",
    "data_un.head()"
   ]
  },
  {
   "cell_type": "markdown",
   "metadata": {},
   "source": [
    "## K-means"
   ]
  },
  {
   "cell_type": "code",
   "execution_count": 219,
   "metadata": {
    "ExecuteTime": {
     "end_time": "2019-11-11T07:59:51.291000Z",
     "start_time": "2019-11-11T07:59:45.109000Z"
    }
   },
   "outputs": [
    {
     "data": {
      "image/png": "[encoded data removed]",
      "text/plain": [
       "<Figure size 432x288 with 1 Axes>"
      ]
     },
     "metadata": {
      "needs_background": "light"
     },
     "output_type": "display_data"
    }
   ],
   "source": [
    "sum_of_squared_distances = []\n",
    "K = range(1,15)\n",
    "for k in K:\n",
    "    km = KMeans(n_clusters=k)\n",
    "    km = km.fit(data_un)\n",
    "    sum_of_squared_distances.append(km.inertia_)\n",
    "\n",
    "plt.plot(K, sum_of_squared_distances, 'rx-')\n",
    "plt.xlabel('k')\n",
    "plt.ylabel('Sum_of_squared_distances')\n",
    "plt.title('Elbow Method For Optimal k')\n",
    "plt.show()"
   ]
  },
  {
   "cell_type": "markdown",
   "metadata": {},
   "source": [
    "<div class=\"alert alert-warning\">\n",
    "\n",
    " <ul>\n",
    "  <li>Based on the elbow method, the best total cluster is 4 </li>\n",
    "</ul> \n",
    "\n",
    "</div>"
   ]
  },
  {
   "cell_type": "code",
   "execution_count": 235,
   "metadata": {
    "ExecuteTime": {
     "end_time": "2019-11-11T08:11:10.900000Z",
     "start_time": "2019-11-11T08:11:10.122000Z"
    }
   },
   "outputs": [
    {
     "data": {
      "image/png": "[encoded data removed]",
      "text/plain": [
       "<Figure size 432x288 with 1 Axes>"
      ]
     },
     "metadata": {
      "needs_background": "light"
     },
     "output_type": "display_data"
    }
   ],
   "source": [
    "model_kmeans = KMeans(n_clusters=4)\n",
    "model_kmeans.fit(data_un)\n",
    "plt.scatter(data_un['att1'],data_un['att2'], c=kmeans.labels_, cmap='plasma')\n",
    "plt.xlabel(\"Satisfaction Level\")\n",
    "plt.ylabel(\"Evaluation Result\")\n",
    "plt.title(\"Employee Data Clustering\")\n",
    "plt.show()"
   ]
  },
  {
   "cell_type": "markdown",
   "metadata": {},
   "source": [
    "## Hierarchical Clustering"
   ]
  },
  {
   "cell_type": "code",
   "execution_count": 231,
   "metadata": {
    "ExecuteTime": {
     "end_time": "2019-11-11T08:09:00.665000Z",
     "start_time": "2019-11-11T08:08:56.614000Z"
    }
   },
   "outputs": [
    {
     "data": {
      "image/png": "[encoded data removed]",
      "text/plain": [
       "<Figure size 432x288 with 1 Axes>"
      ]
     },
     "metadata": {
      "needs_background": "light"
     },
     "output_type": "display_data"
    }
   ],
   "source": [
    "model_hier = AgglomerativeClustering(n_clusters=4, affinity='euclidean', linkage='ward')\n",
    "model_hier.fit(data_un)\n",
    "plt.scatter(data_un['att1'],data_un['att2'], c=model_hier.labels_, cmap='plasma')\n",
    "plt.xlabel(\"Satisfaction Level\")\n",
    "plt.ylabel(\"Evaluation Result\")\n",
    "plt.title(\"Employee Data Clustering\")\n",
    "plt.show()"
   ]
  },
  {
   "cell_type": "markdown",
   "metadata": {},
   "source": [
    "<div class=\"alert alert-info\">\n",
    "\n",
    "**Kmeans and  Hierarchical Clustering**\n",
    "\n",
    "  <ul>\n",
    "    <li>The results from both of clustering show us about how we sepatare the Employee, we can separate the employee to 4 clusters which are the the low satisfactory with low evaluation, low satisfactory with high evaluation, high satisfactory with low evaluation, and high satisfactory with high evaluation.</li>\n",
    "  </ul> \n",
    "\n",
    "\n",
    "</div>"
   ]
  },
  {
   "cell_type": "markdown",
   "metadata": {},
   "source": [
    "## DBSCAN"
   ]
  },
  {
   "cell_type": "code",
   "execution_count": 234,
   "metadata": {
    "ExecuteTime": {
     "end_time": "2019-11-11T08:09:44.552000Z",
     "start_time": "2019-11-11T08:09:43.661000Z"
    }
   },
   "outputs": [
    {
     "data": {
      "image/png": "[encoded data removed]",
      "text/plain": [
       "<Figure size 432x288 with 1 Axes>"
      ]
     },
     "metadata": {
      "needs_background": "light"
     },
     "output_type": "display_data"
    }
   ],
   "source": [
    "model_dbscan = DBSCAN(eps=0.00001)\n",
    "model_dbscan.fit(data_un)\n",
    "plt.scatter(data_un['att1'],data_un['att2'], c=model_dbscan.labels_, cmap='plasma')\n",
    "plt.xlabel(\"Satisfaction Level\")\n",
    "plt.ylabel(\"Evaluation Result\")\n",
    "plt.title(\"Employee Data Clustering\")\n",
    "plt.show()"
   ]
  },
  {
   "cell_type": "markdown",
   "metadata": {},
   "source": [
    "<div class=\"alert alert-info\">\n",
    "\n",
    "**DBSCAN**\n",
    "\n",
    "  <ul>\n",
    "    <li> We cannot see any insight from the data</li>\n",
    "  </ul> \n",
    "\n",
    "\n",
    "</div>"
   ]
  }
 ],
 "metadata": {
  "kernelspec": {
   "display_name": "Python 3",
   "language": "python",
   "name": "python3"
  },
  "language_info": {
   "codemirror_mode": {
    "name": "ipython",
    "version": 3
   },
   "file_extension": ".py",
   "mimetype": "text/x-python",
   "name": "python",
   "nbconvert_exporter": "python",
   "pygments_lexer": "ipython3",
   "version": "3.7.4"
  },
  "toc": {
   "base_numbering": 1,
   "nav_menu": {},
   "number_sections": true,
   "sideBar": true,
   "skip_h1_title": false,
   "title_cell": "Table of Contents",
   "title_sidebar": "Contents",
   "toc_cell": false,
   "toc_position": {
    "height": "calc(100% - 180px)",
    "left": "10px",
    "top": "150px",
    "width": "341.484px"
   },
   "toc_section_display": true,
   "toc_window_display": true
  }
 },
 "nbformat": 4,
 "nbformat_minor": 2
}
